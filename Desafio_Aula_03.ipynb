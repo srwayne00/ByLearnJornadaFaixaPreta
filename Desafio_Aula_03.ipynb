{
  "nbformat": 4,
  "nbformat_minor": 0,
  "metadata": {
    "colab": {
      "name": "Desafio_Aula_03.ipynb",
      "provenance": [],
      "collapsed_sections": []
    },
    "kernelspec": {
      "name": "python3",
      "display_name": "Python 3"
    }
  },
  "cells": [
    {
      "cell_type": "markdown",
      "metadata": {
        "id": "wUft_6pihWU1"
      },
      "source": [
        "###### *Jornada Python Faixa Preta, é um curso gratuito oferecido pela ByLearn 3° aula 07-10-2020*"
      ]
    },
    {
      "cell_type": "code",
      "metadata": {
        "id": "awf4SDaShTbL",
        "outputId": "bcf83e0a-ff26-4713-bfeb-c0fa7e866e85",
        "colab": {
          "base_uri": "https://localhost:8080/",
          "height": 72
        }
      },
      "source": [
        "# Calculo do (I)ndice de (M)assa (C)orporal do Usuario\n",
        "\n",
        "peso = int(input('Informe seu peso '))\n",
        "altura = float(input('Informe sua altura '))\n",
        "\n",
        "imc = peso/(altura * altura)\n",
        "if imc < 18.5:\n",
        "    print('Seu IMC é: ' ,imc, 'vamos para uma rodizio já!')\n",
        "elif imc >= 18.5 and imc < 25:\n",
        "    print('Seu IMC é: ' ,imc, 'Continue o que esta fazendo que esta normal')\n",
        "elif imc >= 25 and imc < 30:\n",
        "    print('Seu IMC é: ' ,imc, 'Recomendo aumentar a frequencia das saladas')\n",
        "elif imc >= 30 and imc < 40:\n",
        "    print('Seu IMC é: ' ,imc, 'PAROU Lanches e pizzas, Vamos cuidar da saude primeiro')\n",
        "else:\n",
        "    print('Seu IMC é: ' ,imc, 'Está querendo morrer, sai desse computador e vai procurar um exercicio e uma dieta imediatamente :(')"
      ],
      "execution_count": 1,
      "outputs": [
        {
          "output_type": "stream",
          "text": [
            "Informe seu peso84\n",
            "Informe sua altura1.75\n",
            "Seu IMC é:  27.428571428571427 Recomendo aumentar a frequencia das saladas\n"
          ],
          "name": "stdout"
        }
      ]
    }
  ]
}